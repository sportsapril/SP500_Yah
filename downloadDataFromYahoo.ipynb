{
 "cells": [
  {
   "cell_type": "code",
   "execution_count": 1,
   "metadata": {},
   "outputs": [
    {
     "name": "stdout",
     "output_type": "stream",
     "text": [
      "Requirement already satisfied: lxml in /Applications/anaconda3/lib/python3.7/site-packages (4.3.3)\n"
     ]
    }
   ],
   "source": [
    "!pip install lxml"
   ]
  },
  {
   "cell_type": "code",
   "execution_count": 3,
   "metadata": {},
   "outputs": [
    {
     "data": {
      "text/plain": [
       "'/Users/SanYen/Documents/GitHub/SP500_Yah/raw/2020-10-24'"
      ]
     },
     "execution_count": 3,
     "metadata": {},
     "output_type": "execute_result"
    }
   ],
   "source": [
    "path"
   ]
  },
  {
   "cell_type": "code",
   "execution_count": 4,
   "metadata": {},
   "outputs": [],
   "source": [
    "from lxml import html  \n",
    "import requests\n",
    "from time import sleep\n",
    "import json\n",
    "import argparse\n",
    "from collections import OrderedDict\n",
    "from time import sleep\n",
    "import pandas as pd\n",
    "import datetime as dt\n",
    "import os \n",
    "\n",
    "parent_dir = os.getcwd()\n",
    "\n",
    "# create folder\n",
    "# parent_dir = '/Users/aprilxu/Documents/GitHub/yah/raw/'\n",
    "directory = str(dt.date.today())\n",
    "path = os.path.join(parent_dir + '/raw', directory)\n",
    "os.mkdir(path) \n",
    "\n",
    "# get a list of SP500 tickers\n",
    "tickerL = pd.read_csv(parent_dir + '/SP500_Tickers.csv')"
   ]
  },
  {
   "cell_type": "code",
   "execution_count": null,
   "metadata": {},
   "outputs": [
    {
     "name": "stdout",
     "output_type": "stream",
     "text": [
      "processing: CF\n",
      "processing: FTNT\n",
      "processing: LYB\n"
     ]
    }
   ],
   "source": [
    "# fetch data\n",
    "for i,t in enumerate(tickerL.Symbol):\n",
    "    if i >= 0:  # this is a breakpoint\n",
    "        if i % 100 == 99:\n",
    "            print('processing: ' + t)\n",
    "        url = \"http://finance.yahoo.com/quote/%s?p=%s\"%(t,t)\n",
    "        other_details_json_link = \"https://query2.finance.yahoo.com/v10/finance/quoteSummary/{0}?formatted=true&lang=en-US&region=US&modules=summaryProfile%2CfinancialData%2CrecommendationTrend%2CupgradeDowngradeHistory%2Cearnings%2CdefaultKeyStatistics%2CcalendarEvents&corsDomain=finance.yahoo.com\".format(t)\n",
    "        summary_json_response = requests.get(other_details_json_link)\n",
    "        json_loaded_summary = json.loads(summary_json_response.text)\n",
    "        output = dict()\n",
    "        output.update({'ticker':t})\n",
    "        if len(json_loaded_summary['quoteSummary']['result'][0]['financialData']['targetMedianPrice']) > 0:\n",
    "            output.update({'tgt_median_price':json_loaded_summary['quoteSummary']['result'][0]['financialData']['targetMedianPrice']['raw']})\n",
    "            output.update({'tgt_high_price':json_loaded_summary['quoteSummary']['result'][0]['financialData']['targetHighPrice']['raw']})\n",
    "            output.update({'tgt_low_price':json_loaded_summary['quoteSummary']['result'][0]['financialData']['targetLowPrice']['raw']})\n",
    "\n",
    "        output.update({'current_price':json_loaded_summary['quoteSummary']['result'][0]['financialData']['currentPrice']['raw']})\n",
    "\n",
    "        if len(json_loaded_summary['quoteSummary']['result'][0]['financialData']['currentRatio']) > 0:\n",
    "            output.update({'current_ratio':json_loaded_summary['quoteSummary']['result'][0]['financialData']['currentRatio']['raw']})\n",
    "\n",
    "        if len(json_loaded_summary['quoteSummary']['result'][0]['financialData']['freeCashflow']) > 0:\n",
    "            output.update({'free_cf':json_loaded_summary['quoteSummary']['result'][0]['financialData']['freeCashflow']['raw']})\n",
    "\n",
    "        if 'defaultKeyStatistics' in json_loaded_summary['quoteSummary']['result'][0].keys():\n",
    "            output.update({'profit_margin':json_loaded_summary['quoteSummary']['result'][0]['defaultKeyStatistics']['profitMargins']['raw']})\n",
    "            if len(json_loaded_summary['quoteSummary']['result'][0]['defaultKeyStatistics']['priceToBook']) > 0:\n",
    "                output.update({'priceToBook':json_loaded_summary['quoteSummary']['result'][0]['defaultKeyStatistics']['priceToBook']['raw']})\n",
    "            if len(json_loaded_summary['quoteSummary']['result'][0]['defaultKeyStatistics']['earningsQuarterlyGrowth']) > 0:\n",
    "                output.update({'earningQtr_growth':json_loaded_summary['quoteSummary']['result'][0]['defaultKeyStatistics']['earningsQuarterlyGrowth']['raw']})\n",
    "            if len(json_loaded_summary['quoteSummary']['result'][0]['defaultKeyStatistics']['pegRatio']) > 0:\n",
    "                output.update({'pegRatio':json_loaded_summary['quoteSummary']['result'][0]['defaultKeyStatistics']['pegRatio']['raw']})\n",
    "            if len(json_loaded_summary['quoteSummary']['result'][0]['defaultKeyStatistics']['forwardPE']) > 0:\n",
    "                output.update({'fwd_pe':json_loaded_summary['quoteSummary']['result'][0]['defaultKeyStatistics']['forwardPE']['raw']})\n",
    "            output.update({'52w_change':json_loaded_summary['quoteSummary']['result'][0]['defaultKeyStatistics']['52WeekChange']['raw']})\n",
    "            if len(json_loaded_summary['quoteSummary']['result'][0]['defaultKeyStatistics']['trailingEps']) > 0:\n",
    "                output.update({'trailingEps':json_loaded_summary['quoteSummary']['result'][0]['defaultKeyStatistics']['trailingEps']['raw']})\n",
    "                x = json_loaded_summary['quoteSummary']['result'][0]['financialData']['currentPrice']['raw'] / json_loaded_summary['quoteSummary']['result'][0]['defaultKeyStatistics']['trailingEps']['raw']\n",
    "                output.update({'PE':x})\n",
    "        if 'earnings' in json_loaded_summary['quoteSummary']['result'][0].keys():\n",
    "            output.update({'qtr_earning':json_loaded_summary['quoteSummary']['result'][0]['earnings']['financialsChart']['quarterly']})\n",
    "            if len(json_loaded_summary['quoteSummary']['result'][0]['earnings']['earningsChart']['quarterly']) > 0:\n",
    "                x = pd.DataFrame(json_loaded_summary['quoteSummary']['result'][0]['earnings']['earningsChart']['quarterly'])\n",
    "                x = pd.concat([pd.concat([x['date'],x.actual.apply(lambda x: x['raw'] if isinstance(x,dict) else x)],axis=1),x.estimate.apply(lambda x: x['raw'] if isinstance(x,dict) else x)],axis=1)\n",
    "                output.update({'eps_estimate_actual':x.to_dict()})\n",
    "\n",
    "\n",
    "        if 'recommendationTrend' in json_loaded_summary['quoteSummary']['result'][0].keys():\n",
    "            x = pd.DataFrame(json_loaded_summary['quoteSummary']['result'][0]['recommendationTrend']['trend'])\n",
    "            x['Buy_Pcnt'] = (x['strongBuy'] + x['buy'])/x.sum(axis=1)\n",
    "            output.update({'analyst_trend_pcntBuy':dict(x.pivot(index=None,columns='period',values='Buy_Pcnt').sum())})\n",
    "\n",
    "        if 'calendarEvents' in json_loaded_summary['quoteSummary']['result'][0].keys():\n",
    "            output.update({'current_earning':json_loaded_summary['quoteSummary']['result'][0]['calendarEvents']['earnings']})\n",
    "\n",
    "        with open(path + '/' + t + '.json', 'w') as fp:\n",
    "            json.dump(output, fp)\n"
   ]
  }
 ],
 "metadata": {
  "kernelspec": {
   "display_name": "Python 3",
   "language": "python",
   "name": "python3"
  },
  "language_info": {
   "codemirror_mode": {
    "name": "ipython",
    "version": 3
   },
   "file_extension": ".py",
   "mimetype": "text/x-python",
   "name": "python",
   "nbconvert_exporter": "python",
   "pygments_lexer": "ipython3",
   "version": "3.7.3"
  }
 },
 "nbformat": 4,
 "nbformat_minor": 4
}
