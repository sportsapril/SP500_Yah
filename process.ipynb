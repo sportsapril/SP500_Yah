{
 "cells": [
  {
   "cell_type": "code",
   "execution_count": 1,
   "metadata": {},
   "outputs": [],
   "source": [
    "import json\n",
    "import pandas as pd\n",
    "import datetime as dt\n",
    "import os \n",
    "import shutil\n",
    "\n",
    "# create folder\n",
    "wDir = !pwd\n",
    "parent_dir = wDir[0] "
   ]
  },
  {
   "cell_type": "code",
   "execution_count": 2,
   "metadata": {},
   "outputs": [],
   "source": [
    "x = os.listdir(parent_dir + '/raw')\n",
    "x = [k for k in x if not k.startswith('.')]\n",
    "path = os.path.join(parent_dir + '/raw', x[0])\n",
    "files = os.listdir(path)"
   ]
  },
  {
   "cell_type": "code",
   "execution_count": 13,
   "metadata": {},
   "outputs": [],
   "source": [
    "def structJson(res):\n",
    "    \n",
    "    keys1 = ['ticker', 'tgt_median_price', 'tgt_high_price', 'tgt_low_price', 'current_price', \n",
    "         'current_ratio', 'free_cf', 'profit_margin', 'priceToBook', 'earningQtr_growth', \n",
    "         'pegRatio', 'fwd_pe', '52w_change', 'trailingEps', 'PE']\n",
    "\n",
    "    \n",
    "    # basic summary stats\n",
    "    missingCol = list(set(keys1) - set(res.keys()))\n",
    "    keys2 = set(keys1).intersection( set(res.keys()))\n",
    "    tmp1 = pd.DataFrame([res[x] for x in keys2]).T\n",
    "    tmp1.columns = keys2\n",
    "\n",
    "    for c in missingCol:\n",
    "        tmp1[c] = None\n",
    "    \n",
    "    # analyst trend\n",
    "    tmp2 = pd.DataFrame()\n",
    "    if 'analyst_trend_pcntBuy' in res.keys():\n",
    "        tmp2 = pd.DataFrame(list(res['analyst_trend_pcntBuy'].values())).T\n",
    "        tmp2.columns = list(res['analyst_trend_pcntBuy'].keys())\n",
    "    \n",
    "    \n",
    "    # earnings\n",
    "    tmp3 = pd.DataFrame()\n",
    "    if 'current_earning' in res.keys():\n",
    "        tmpDict = {}\n",
    "        if res['current_earning']['earningsDate'] != []:\n",
    "            tmpDict.update({'current_earning_d':res['current_earning']['earningsDate'][0]['fmt']})\n",
    "            if len(res['current_earning']['earningsAverage']) > 0:\n",
    "                tmpDict.update({'current_earning_avg':res['current_earning']['earningsAverage']['raw']})\n",
    "                tmpDict.update({'current_earning_low':res['current_earning']['earningsLow']['raw']})\n",
    "                tmpDict.update({'current_earning_high':res['current_earning']['earningsHigh']['raw']})\n",
    "            if len(res['current_earning']['revenueAverage']) > 0:\n",
    "                tmpDict.update({'current_revenue_avg':res['current_earning']['revenueAverage']['raw']})\n",
    "            if len(res['current_earning']['revenueHigh']) > 0:    \n",
    "                tmpDict.update({'current_revenue_high':res['current_earning']['revenueHigh']['raw']})\n",
    "            if len(res['current_earning']['revenueLow']) > 0:    \n",
    "                tmpDict.update({'current_revenue_low':res['current_earning']['revenueLow']['raw']})\n",
    "            \n",
    "            tmp3 = pd.DataFrame(list(tmpDict.values())).T\n",
    "            tmp3.columns = list(tmpDict.keys())\n",
    "    \n",
    "    # put together\n",
    "    tmp = pd.concat([pd.concat([tmp1,tmp2],axis=1),tmp3],axis=1)\n",
    "    \n",
    "    \n",
    "    # with time dims\n",
    "    tmp1 = pd.DataFrame()\n",
    "    tmp2 = pd.DataFrame()\n",
    "    tmp_T = pd.DataFrame()\n",
    "    if 'qtr_earning' in res.keys():\n",
    "        if len(res['qtr_earning']) > 0:\n",
    "            tmp1 = pd.DataFrame(res['qtr_earning'])\n",
    "            if isinstance(res['qtr_earning'][0]['revenue'],dict):\n",
    "                tmp1 = pd.concat([pd.concat([tmp1['date'],tmp1.revenue.apply(lambda x: x['raw'] if isinstance(x,dict) else x)],axis=1),\n",
    "                                  tmp1.earnings.apply(lambda x: x['raw'] if isinstance(x,dict) else x)],axis=1)\n",
    "            \n",
    "    \n",
    "    if 'eps_estimate_actual' in res.keys():\n",
    "        tmp2 = pd.DataFrame(res['eps_estimate_actual'])\n",
    "    \n",
    "    if ('qtr_earning' in res.keys()) & ('eps_estimate_actual' in res.keys()):\n",
    "        tmp_T = pd.merge(left = tmp1,\n",
    "                     right = tmp2,\n",
    "                     how = 'left',\n",
    "                     on = 'date')\n",
    "        tmp_T['ticker'] = res['ticker']\n",
    "    \n",
    "    return tmp, tmp_T"
   ]
  },
  {
   "cell_type": "code",
   "execution_count": 14,
   "metadata": {},
   "outputs": [],
   "source": [
    "f = open(path + '/AAPL.json') \n",
    "res = json.load(f) \n",
    "out, out_T = structJson(res)"
   ]
  },
  {
   "cell_type": "code",
   "execution_count": 16,
   "metadata": {},
   "outputs": [
    {
     "name": "stderr",
     "output_type": "stream",
     "text": [
      "/Users/aprilxu/Documents/GitHub/FMA/TA-Predictive-Analysis/venv/lib/python3.7/site-packages/pandas/core/frame.py:7138: FutureWarning: Sorting because non-concatenation axis is not aligned. A future version\n",
      "of pandas will change to not sort by default.\n",
      "\n",
      "To accept the future behavior, pass 'sort=False'.\n",
      "\n",
      "To retain the current behavior and silence the warning, pass 'sort=True'.\n",
      "\n",
      "  sort=sort,\n"
     ]
    }
   ],
   "source": [
    "for f in files:\n",
    "    if f != 'AAPL.json':\n",
    "        p = open(path + '/' + f) \n",
    "        res = json.load(p) \n",
    "        tmp, tmp_T = structJson(res)\n",
    "        \n",
    "        out = out.append(tmp)\n",
    "        out_T = out_T.append(tmp_T)\n",
    "out['as_of_date'] = x[0]\n",
    "out_T['as_of_date'] = x[0]"
   ]
  },
  {
   "cell_type": "code",
   "execution_count": 17,
   "metadata": {},
   "outputs": [],
   "source": [
    "out = out[['ticker','as_of_date','-1m', '-2m', '-3m', '0m', '52w_change', 'PE', 'current_earning_avg',\n",
    "       'current_earning_d', 'current_earning_high', 'current_earning_low',\n",
    "       'current_price', 'current_ratio', 'current_revenue_avg',\n",
    "       'current_revenue_high', 'current_revenue_low', 'earningQtr_growth',\n",
    "       'free_cf', 'fwd_pe', 'pegRatio', 'priceToBook', 'profit_margin',\n",
    "       'tgt_high_price', 'tgt_low_price', 'tgt_median_price','trailingEps']]"
   ]
  },
  {
   "cell_type": "code",
   "execution_count": 18,
   "metadata": {},
   "outputs": [],
   "source": [
    "out['growthPotential'] = out['tgt_median_price'] / out['current_price'] - 1"
   ]
  },
  {
   "cell_type": "code",
   "execution_count": 19,
   "metadata": {},
   "outputs": [],
   "source": [
    "inData = pd.read_csv(parent_dir + '/output/SP500_Consolidated.csv')\n",
    "inData = inData.drop(['Unnamed: 0'],axis=1)\n",
    "inData.columns = out.columns\n",
    "out = inData.append(out,ignore_index=True)"
   ]
  },
  {
   "cell_type": "code",
   "execution_count": 20,
   "metadata": {},
   "outputs": [],
   "source": [
    "out.to_csv(parent_dir + '/output/SP500_Consolidated.csv')"
   ]
  },
  {
   "cell_type": "code",
   "execution_count": 21,
   "metadata": {},
   "outputs": [],
   "source": [
    "inData = pd.read_csv(parent_dir + '/output/SP500_Consolidated_T.csv')\n",
    "inData = inData.drop(['Unnamed: 0'],axis=1)\n",
    "inData.columns = out_T.columns\n",
    "out_T = inData.append(out_T,ignore_index=True)"
   ]
  },
  {
   "cell_type": "code",
   "execution_count": 22,
   "metadata": {},
   "outputs": [],
   "source": [
    "out_T.to_csv(parent_dir + '/output/SP500_Consolidated_T.csv')"
   ]
  },
  {
   "cell_type": "code",
   "execution_count": 23,
   "metadata": {},
   "outputs": [
    {
     "data": {
      "text/plain": [
       "'/Users/aprilxu/Documents/GitHub/yah/processed/2020-06-02'"
      ]
     },
     "execution_count": 23,
     "metadata": {},
     "output_type": "execute_result"
    }
   ],
   "source": [
    "shutil.move(path,parent_dir + '/processed/')"
   ]
  }
 ],
 "metadata": {
  "kernelspec": {
   "display_name": "Python 3",
   "language": "python",
   "name": "python3"
  },
  "language_info": {
   "codemirror_mode": {
    "name": "ipython",
    "version": 3
   },
   "file_extension": ".py",
   "mimetype": "text/x-python",
   "name": "python",
   "nbconvert_exporter": "python",
   "pygments_lexer": "ipython3",
   "version": "3.7.1"
  }
 },
 "nbformat": 4,
 "nbformat_minor": 2
}
